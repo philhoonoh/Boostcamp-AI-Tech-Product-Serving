{
 "cells": [
  {
   "cell_type": "code",
   "execution_count": 1,
   "id": "f8fe5ed3",
   "metadata": {},
   "outputs": [],
   "source": [
    "import json\n",
    "import logging.config\n",
    "import os\n",
    "from typing import Union\n",
    "\n",
    "from pydantic import BaseModel, BaseSettings, Field\n",
    "from datetime import datetime\n",
    "from logging import StreamHandler, LogRecord\n",
    "import logging\n",
    "\n",
    "import pytz\n",
    "import yaml\n",
    "from google.cloud import bigquery\n",
    "from google.oauth2 import service_account\n",
    "from pythonjsonlogger import jsonlogger"
   ]
  },
  {
   "cell_type": "code",
   "execution_count": 2,
   "id": "9a296c1e",
   "metadata": {},
   "outputs": [],
   "source": [
    "log_format = \", \".join(\n",
    "    [\n",
    "        f\"%({key})s\"\n",
    "        for key in sorted([\"filename\", \"levelname\", \"name\", \"message\", \"created\"])\n",
    "    ]\n",
    ")\n",
    "\n",
    "\n",
    "class BigqueryLogSchema(BaseModel):\n",
    "    level: str\n",
    "    message: str\n",
    "    created_at: datetime\n",
    "\n",
    "\n",
    "class BigqueryHandlerConfig(BaseSettings):\n",
    "    credentials: service_account.Credentials\n",
    "    table: Union[str, bigquery.TableReference]\n",
    "    formatter: logging.Formatter = Field(default_factory=jsonlogger.JsonFormatter)\n",
    "    level: int = Field(default=logging.INFO)\n",
    "\n",
    "    class Config:\n",
    "        arbitrary_types_allowed = True\n"
   ]
  },
  {
   "cell_type": "code",
   "execution_count": 3,
   "id": "135ea6f0",
   "metadata": {},
   "outputs": [],
   "source": [
    "\n",
    "class BigqueryHandler(StreamHandler):\n",
    "    def __init__(self, config: BigqueryHandlerConfig) -> None:\n",
    "        super().__init__()\n",
    "        self.config = config\n",
    "        self.bigquery_client = bigquery.Client(credentials=self.config.credentials)\n",
    "        self.setLevel(config.level)\n",
    "        self.setFormatter(fmt=self.config.formatter)\n",
    "\n",
    "    def emit(self, record: LogRecord) -> None:\n",
    "        message = self.format(record)\n",
    "        json_message = json.loads(message)\n",
    "        log_input = BigqueryLogSchema(\n",
    "            level=json_message[\"levelname\"],\n",
    "            message=json_message[\"message\"],\n",
    "            created_at=datetime.fromtimestamp(\n",
    "                json_message[\"created\"], tz=pytz.timezone(\"Asia/Seoul\")\n",
    "            ),\n",
    "        )\n",
    "        errors = self.bigquery_client.insert_rows_json(\n",
    "            self.config.table, [json.loads(log_input.json())]\n",
    "        )\n",
    "        if errors:\n",
    "            print(errors)  # 에러가 발생해도 Logging이 정상적으로 동작하게 하기 위해, 별도의 에러 핸들링을 추가하지 않습니다\n"
   ]
  },
  {
   "cell_type": "code",
   "execution_count": 4,
   "id": "0afc4f3a",
   "metadata": {},
   "outputs": [],
   "source": [
    "\n",
    "def get_ml_logger(\n",
    "    config_path: Union[os.PathLike, str],\n",
    "    credential_json_path: Union[os.PathLike, str],\n",
    "    table_ref: Union[bigquery.TableReference, str],\n",
    "    logger_name: str = \"MLLogger\",\n",
    ") -> logging.Logger:\n",
    "    \"\"\"\n",
    "    MLLogger를 가져옵니다\n",
    "\n",
    "    Args:\n",
    "        config_path: logger config YAML 파일의 경로\n",
    "        credential_json_path: service account json 파일 경로\n",
    "        table_ref: 로그가 저장될 빅쿼리의 table reference (e.g., project.dataset.table_name)\n",
    "        logger_name: [optional] logger의 이름(default: MLLogger)\n",
    "\n",
    "    Returns:\n",
    "        logging.Logger: MLLogger\n",
    "\n",
    "    \"\"\"\n",
    "    # Default Logger Config를 추가합니다\n",
    "    with open(config_path, \"r\") as f:\n",
    "        logging_config = yaml.safe_load(f)\n",
    "    # print(logging_config)\n",
    "    logging.config.dictConfig(logging_config)\n",
    "    _logger = logging.getLogger(logger_name)\n",
    "\n",
    "    # BigQuery Logging Handler 추가합니다\n",
    "    if not credential_json_path:\n",
    "        return _logger\n",
    "\n",
    "    credentials = service_account.Credentials.from_service_account_file(\n",
    "        filename=credential_json_path\n",
    "    )\n",
    "    bigquery_handler_config = BigqueryHandlerConfig(\n",
    "        credentials=credentials,\n",
    "        table=table_ref,\n",
    "        formatter=jsonlogger.JsonFormatter(fmt=log_format),\n",
    "    )\n",
    "    bigquery_handler = BigqueryHandler(config=bigquery_handler_config)\n",
    "    _logger.addHandler(bigquery_handler)\n",
    "\n",
    "    return _logger"
   ]
  },
  {
   "cell_type": "code",
   "execution_count": 13,
   "id": "0e285cb3",
   "metadata": {},
   "outputs": [],
   "source": [
    "from pathlib import Path"
   ]
  },
  {
   "cell_type": "code",
   "execution_count": 14,
   "id": "49192bcb",
   "metadata": {},
   "outputs": [],
   "source": [
    "__file__ = 'app/test.py'\n",
    "here = Path(__file__)"
   ]
  },
  {
   "cell_type": "code",
   "execution_count": 15,
   "id": "d987ed16",
   "metadata": {},
   "outputs": [
    {
     "name": "stdout",
     "output_type": "stream",
     "text": [
      "here : app/test.py\n",
      "here.parent : app\n"
     ]
    }
   ],
   "source": [
    "print(f'here : {here}')\n",
    "print(f'here.parent : {here.parent}')"
   ]
  },
  {
   "cell_type": "code",
   "execution_count": 17,
   "id": "944704ed",
   "metadata": {},
   "outputs": [
    {
     "name": "stdout",
     "output_type": "stream",
     "text": [
      "config_yaml_path : app/config.yaml\n"
     ]
    }
   ],
   "source": [
    "config_yaml_path = os.path.join(here.parent, \"config.yaml\")\n",
    "print(f'config_yaml_path : {config_yaml_path}')"
   ]
  },
  {
   "cell_type": "code",
   "execution_count": null,
   "id": "06ba7501",
   "metadata": {},
   "outputs": [],
   "source": [
    "config_yaml_path = os.path.join(here.parent, \"config.yaml\")\n",
    "credential_json_path=\"/Users/philhoonoh/Downloads/heumsi-playground-351304-025cf540a957.json\",  # FIXME\n",
    "table_ref=\"heumsi-playground-351304.online_serving_logs.mask_classification\",\n",
    "\n",
    "logger = get_ml_logger(\n",
    "    config_path=config_yaml_path,\n",
    "    credential_json_path=\"/Users/philhoonoh/Downloads/heumsi-playground-351304-025cf540a957.json\",  # FIXME\n",
    "    table_ref=\"heumsi-playground-351304.online_serving_logs.mask_classification\",  # FIXME: e.g., boostcamp-ai-tech-serving.online_serving_logs.mask_classification\n",
    ")\n",
    "for _ in range(10):\n",
    "    logger.info(\"hello world\")"
   ]
  },
  {
   "cell_type": "code",
   "execution_count": 22,
   "id": "1af66325",
   "metadata": {},
   "outputs": [],
   "source": [
    "config_yaml_path = os.path.join(here.parent, \"config.yaml\")\n",
    "credential_json_path=\"/Users/philhoonoh/Downloads/heumsi-playground-351304-025cf540a957.json\"  # FIXME\n",
    "table_ref=\"heumsi-playground-351304.online_serving_logs.mask_classification\""
   ]
  },
  {
   "cell_type": "code",
   "execution_count": 20,
   "id": "afc26f80",
   "metadata": {},
   "outputs": [],
   "source": [
    "config_path = config_yaml_path\n",
    "logger_name: str = \"MLLogger\"\n",
    "with open(config_path, \"r\") as f:\n",
    "    logging_config = yaml.safe_load(f)\n",
    "    # print(logging_config)\n",
    "logging.config.dictConfig(logging_config)\n",
    "_logger = logging.getLogger(logger_name)"
   ]
  },
  {
   "cell_type": "code",
   "execution_count": 23,
   "id": "07a27112",
   "metadata": {},
   "outputs": [],
   "source": [
    "credential_json_path = credential_json_path\n",
    "credentials = service_account.Credentials.from_service_account_file(\n",
    "        filename=credential_json_path\n",
    "    )"
   ]
  },
  {
   "cell_type": "code",
   "execution_count": 25,
   "id": "5fca5af1",
   "metadata": {},
   "outputs": [],
   "source": [
    "bigquery_client = bigquery.Client(credentials=credentials)"
   ]
  },
  {
   "cell_type": "code",
   "execution_count": null,
   "id": "48934e7b",
   "metadata": {},
   "outputs": [],
   "source": [
    "bigquery_client"
   ]
  },
  {
   "cell_type": "code",
   "execution_count": 24,
   "id": "c7f329f0",
   "metadata": {},
   "outputs": [],
   "source": [
    "bigquery_handler_config = BigqueryHandlerConfig(\n",
    "        credentials=credentials,\n",
    "        table=table_ref,\n",
    "        formatter=jsonlogger.JsonFormatter(fmt=log_format),\n",
    "    )"
   ]
  },
  {
   "cell_type": "code",
   "execution_count": null,
   "id": "1d7d19f0",
   "metadata": {},
   "outputs": [],
   "source": [
    "bigquery_handler = BigqueryHandler(config=bigquery_handler_config)\n",
    "_logger.addHandler(bigquery_handler)"
   ]
  },
  {
   "cell_type": "code",
   "execution_count": null,
   "id": "48ce9e00",
   "metadata": {},
   "outputs": [],
   "source": [
    "def get_ml_logger(\n",
    "    config_path: Union[os.PathLike, str],\n",
    "    credential_json_path: Union[os.PathLike, str],\n",
    "    table_ref: Union[bigquery.TableReference, str],\n",
    "    logger_name: str = \"MLLogger\",\n",
    ") -> logging.Logger:\n",
    "    \"\"\"\n",
    "    MLLogger를 가져옵니다\n",
    "\n",
    "    Args:\n",
    "        config_path: logger config YAML 파일의 경로\n",
    "        credential_json_path: service account json 파일 경로\n",
    "        table_ref: 로그가 저장될 빅쿼리의 table reference (e.g., project.dataset.table_name)\n",
    "        logger_name: [optional] logger의 이름(default: MLLogger)\n",
    "\n",
    "    Returns:\n",
    "        logging.Logger: MLLogger\n",
    "\n",
    "    \"\"\"\n",
    "    # Default Logger Config를 추가합니다\n",
    "    with open(config_path, \"r\") as f:\n",
    "        logging_config = yaml.safe_load(f)\n",
    "    # print(logging_config)\n",
    "    logging.config.dictConfig(logging_config)\n",
    "    _logger = logging.getLogger(logger_name)\n",
    "\n",
    "    # BigQuery Logging Handler 추가합니다\n",
    "    if not credential_json_path:\n",
    "        return _logger\n",
    "\n",
    "    credentials = service_account.Credentials.from_service_account_file(\n",
    "        filename=credential_json_path\n",
    "    )\n",
    "    bigquery_handler_config = BigqueryHandlerConfig(\n",
    "        credentials=credentials,\n",
    "        table=table_ref,\n",
    "        formatter=jsonlogger.JsonFormatter(fmt=log_format),\n",
    "    )\n",
    "    bigquery_handler = BigqueryHandler(config=bigquery_handler_config)\n",
    "    _logger.addHandler(bigquery_handler)\n",
    "\n",
    "    return _logger"
   ]
  }
 ],
 "metadata": {
  "kernelspec": {
   "display_name": "py38_transformers",
   "language": "python",
   "name": "py38"
  },
  "language_info": {
   "codemirror_mode": {
    "name": "ipython",
    "version": 3
   },
   "file_extension": ".py",
   "mimetype": "text/x-python",
   "name": "python",
   "nbconvert_exporter": "python",
   "pygments_lexer": "ipython3",
   "version": "3.8.12"
  }
 },
 "nbformat": 4,
 "nbformat_minor": 5
}
