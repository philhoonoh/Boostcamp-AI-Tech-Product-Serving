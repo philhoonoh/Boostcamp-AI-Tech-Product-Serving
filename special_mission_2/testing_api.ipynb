{
 "cells": [
  {
   "cell_type": "code",
   "execution_count": 18,
   "id": "829e6d90",
   "metadata": {},
   "outputs": [],
   "source": [
    "import requests\n",
    "import json"
   ]
  },
  {
   "cell_type": "code",
   "execution_count": 19,
   "id": "80933635",
   "metadata": {},
   "outputs": [],
   "source": [
    "response = requests.get(\"http://localhost:8001/pipeline\")"
   ]
  },
  {
   "cell_type": "code",
   "execution_count": 20,
   "id": "dc4a147e",
   "metadata": {},
   "outputs": [
    {
     "data": {
      "text/plain": [
       "{'pipelines': []}"
      ]
     },
     "execution_count": 20,
     "metadata": {},
     "output_type": "execute_result"
    }
   ],
   "source": [
    "response.json()"
   ]
  },
  {
   "cell_type": "code",
   "execution_count": 21,
   "id": "f422008f",
   "metadata": {},
   "outputs": [],
   "source": [
    "json_dict_1 = {'model_name' : \"bespin-global/klue-bert-base-aihub-mrc\"}\n",
    "json_dict_2 = {'model_name' : \"ainize/klue-bert-base-mrc\"}"
   ]
  },
  {
   "cell_type": "code",
   "execution_count": 22,
   "id": "a2795d25",
   "metadata": {},
   "outputs": [
    {
     "name": "stdout",
     "output_type": "stream",
     "text": [
      "{'model_name': 'bespin-global/klue-bert-base-aihub-mrc'}\n",
      "{'pipelines': ['bespin-global/klue-bert-base-aihub-mrc']}\n"
     ]
    }
   ],
   "source": [
    "response2 = requests.post(\"http://localhost:8001/pipeline\", json = json_dict_1)\n",
    "print(response2.json())\n",
    "response = requests.get(\"http://localhost:8001/pipeline\")\n",
    "print(response.json())"
   ]
  },
  {
   "cell_type": "code",
   "execution_count": 29,
   "id": "aff55321",
   "metadata": {},
   "outputs": [
    {
     "name": "stdout",
     "output_type": "stream",
     "text": [
      "{'model_name': 'ainize/klue-bert-base-mrc'}\n",
      "{'pipelines': ['ainize/klue-bert-base-mrc']}\n"
     ]
    }
   ],
   "source": [
    "response3 = requests.post(\"http://localhost:8001/pipeline\", json = json_dict_2)\n",
    "print(response3.json())\n",
    "response = requests.get(\"http://localhost:8001/pipeline\")\n",
    "print(response.json())"
   ]
  },
  {
   "cell_type": "code",
   "execution_count": 30,
   "id": "ea6583d2",
   "metadata": {},
   "outputs": [
    {
     "name": "stdout",
     "output_type": "stream",
     "text": [
      "{'pipelines': ['ainize/klue-bert-base-mrc']}\n"
     ]
    }
   ],
   "source": [
    "response = requests.get(\"http://localhost:8001/pipeline\")\n",
    "print(response.json())"
   ]
  },
  {
   "cell_type": "code",
   "execution_count": 31,
   "id": "3c75fb5e",
   "metadata": {},
   "outputs": [],
   "source": [
    "data_json = {\n",
    "    'model_name' : 'ainize/klue-bert-base-mrc',\n",
    "    'question': '이순신은 어느시대 사람인가요?', \n",
    "    'context': '이순신은 조선 후기시대의 무인입니다.'\n",
    "}\n",
    "response = requests.post(\"http://localhost:8001/pipeline/analyze/\", json = data_json)"
   ]
  },
  {
   "cell_type": "code",
   "execution_count": 32,
   "id": "8bfdce62",
   "metadata": {},
   "outputs": [
    {
     "data": {
      "text/plain": [
       "{'model_name': 'ainize/klue-bert-base-mrc', 'answer': '조선 후기시대의'}"
      ]
     },
     "execution_count": 32,
     "metadata": {},
     "output_type": "execute_result"
    }
   ],
   "source": [
    "response.json()"
   ]
  },
  {
   "cell_type": "code",
   "execution_count": null,
   "id": "0b4fd762",
   "metadata": {},
   "outputs": [],
   "source": []
  }
 ],
 "metadata": {
  "kernelspec": {
   "display_name": "py38_transformers",
   "language": "python",
   "name": "py38"
  },
  "language_info": {
   "codemirror_mode": {
    "name": "ipython",
    "version": 3
   },
   "file_extension": ".py",
   "mimetype": "text/x-python",
   "name": "python",
   "nbconvert_exporter": "python",
   "pygments_lexer": "ipython3",
   "version": "3.8.12"
  }
 },
 "nbformat": 4,
 "nbformat_minor": 5
}
